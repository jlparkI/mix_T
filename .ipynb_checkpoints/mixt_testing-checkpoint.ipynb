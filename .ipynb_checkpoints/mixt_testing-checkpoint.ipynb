{
 "cells": [
  {
   "cell_type": "code",
   "execution_count": 174,
   "metadata": {},
   "outputs": [],
   "source": [
    "import sklearn\n",
    "from sklearn import datasets\n",
    "iris = sklearn.datasets.load_iris()\n",
    "import matplotlib.pyplot as plt\n",
    "import seaborn as sns"
   ]
  },
  {
   "cell_type": "code",
   "execution_count": 177,
   "metadata": {},
   "outputs": [],
   "source": [
    "from importlib import reload\n",
    "import numpy as np\n",
    "import mixt_model\n",
    "reload(mixt_model)\n",
    "from mixt_model import StudentMixture as stdmix\n",
    "from sklearn.preprocessing import scale\n",
    "xraw = iris['data'][:,2:]\n",
    "x = xraw\n",
    "monika = stdmix(df=1,n_components=3,max_iter=1500, n_init=3)\n",
    "monika.fit(x)"
   ]
  },
  {
   "cell_type": "code",
   "execution_count": 178,
   "metadata": {},
   "outputs": [
    {
     "data": {
      "image/png": "[encoded data removed]",
      "text/plain": [
       "<Figure size 432x288 with 1 Axes>"
      ]
     },
     "metadata": {
      "needs_background": "light"
     },
     "output_type": "display_data"
    }
   ],
   "source": [
    "from sklearn.mixture import GaussianMixture as GMM\n",
    "\n",
    "target = [iris['target_names'][a] for a in iris['target']]\n",
    "sns.scatterplot(iris['data'][:,2], iris['data'][:,3])\n",
    "for i in range(monika.n_components):\n",
    "    plt.scatter(monika.get_cluster_centers()[i,0], monika.get_cluster_centers()[i,1], color=\"black\")\n",
    "    \n",
    "plt.show()"
   ]
  },
  {
   "cell_type": "code",
   "execution_count": 172,
   "metadata": {},
   "outputs": [],
   "source": []
  },
  {
   "cell_type": "code",
   "execution_count": null,
   "metadata": {},
   "outputs": [],
   "source": []
  },
  {
   "cell_type": "code",
   "execution_count": null,
   "metadata": {},
   "outputs": [],
   "source": []
  }
 ],
 "metadata": {
  "kernelspec": {
   "display_name": "Python 3",
   "language": "python",
   "name": "python3"
  },
  "language_info": {
   "codemirror_mode": {
    "name": "ipython",
    "version": 3
   },
   "file_extension": ".py",
   "mimetype": "text/x-python",
   "name": "python",
   "nbconvert_exporter": "python",
   "pygments_lexer": "ipython3",
   "version": "3.8.2"
  }
 },
 "nbformat": 4,
 "nbformat_minor": 4
}
